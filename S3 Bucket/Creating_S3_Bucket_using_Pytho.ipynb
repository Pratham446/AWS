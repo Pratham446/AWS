{
 "cells": [
  {
   "cell_type": "code",
   "execution_count": 10,
   "id": "39811577-e9d4-4893-9026-a7956fdda7e7",
   "metadata": {},
   "outputs": [],
   "source": [
    "import boto3\n",
    "\n",
    "aws_access_key = ''\n",
    "aws_secret_key = ''\n",
    "\n",
    "region = 'ap-south-1'\n",
    "bucket_name = \"my-unique-bucket-name-707070\"\n"
   ]
  },
  {
   "cell_type": "code",
   "execution_count": 12,
   "id": "ba38a512-23a1-4e7a-87d6-73031eddaaae",
   "metadata": {},
   "outputs": [
    {
     "name": "stdout",
     "output_type": "stream",
     "text": [
      "✅ Bucket 'my-unique-bucket-name-707070' created successfully in ap-south-1!\n"
     ]
    }
   ],
   "source": [
    "s3 = boto3.client(\n",
    "    's3',\n",
    "    aws_access_key_id=aws_access_key,\n",
    "    aws_secret_access_key=aws_secret_key,\n",
    "    region_name=region\n",
    ")\n",
    "\n",
    "try:\n",
    "    s3.create_bucket(\n",
    "        Bucket=bucket_name,\n",
    "        CreateBucketConfiguration={'LocationConstraint': region}\n",
    "    )\n",
    "    print(f\"✅ Bucket '{bucket_name}' created successfully in {region}!\")\n",
    "except Exception as e:\n",
    "    print(f\"❌ Error: {e}\")"
   ]
  },
  {
   "cell_type": "code",
   "execution_count": null,
   "id": "5f4d5045-6862-40c9-8ed1-6e0801115ea7",
   "metadata": {},
   "outputs": [],
   "source": []
  }
 ],
 "metadata": {
  "kernelspec": {
   "display_name": "Python [conda env:base] *",
   "language": "python",
   "name": "conda-base-py"
  },
  "language_info": {
   "codemirror_mode": {
    "name": "ipython",
    "version": 3
   },
   "file_extension": ".py",
   "mimetype": "text/x-python",
   "name": "python",
   "nbconvert_exporter": "python",
   "pygments_lexer": "ipython3",
   "version": "3.12.7"
  }
 },
 "nbformat": 4,
 "nbformat_minor": 5
}
