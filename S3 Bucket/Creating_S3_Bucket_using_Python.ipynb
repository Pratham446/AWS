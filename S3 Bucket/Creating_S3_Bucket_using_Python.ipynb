{
 "cells": [
  {
   "cell_type": "code",
   "execution_count": 1,
   "id": "68b6369a-2af7-4ec2-99b5-3b7087237f83",
   "metadata": {},
   "outputs": [
    {
     "name": "stdout",
     "output_type": "stream",
     "text": [
      "Collecting boto3\n",
      "  Downloading boto3-1.39.8-py3-none-any.whl.metadata (6.6 kB)\n",
      "Collecting botocore<1.40.0,>=1.39.8 (from boto3)\n",
      "  Downloading botocore-1.39.8-py3-none-any.whl.metadata (5.7 kB)\n",
      "Requirement already satisfied: jmespath<2.0.0,>=0.7.1 in d:\\installations\\lib\\site-packages (from boto3) (1.0.1)\n",
      "Collecting s3transfer<0.14.0,>=0.13.0 (from boto3)\n",
      "  Downloading s3transfer-0.13.0-py3-none-any.whl.metadata (1.7 kB)\n",
      "Requirement already satisfied: python-dateutil<3.0.0,>=2.1 in d:\\installations\\lib\\site-packages (from botocore<1.40.0,>=1.39.8->boto3) (2.9.0.post0)\n",
      "Requirement already satisfied: urllib3!=2.2.0,<3,>=1.25.4 in d:\\installations\\lib\\site-packages (from botocore<1.40.0,>=1.39.8->boto3) (2.2.3)\n",
      "Requirement already satisfied: six>=1.5 in d:\\installations\\lib\\site-packages (from python-dateutil<3.0.0,>=2.1->botocore<1.40.0,>=1.39.8->boto3) (1.16.0)\n",
      "Downloading boto3-1.39.8-py3-none-any.whl (139 kB)\n",
      "Downloading botocore-1.39.8-py3-none-any.whl (13.9 MB)\n",
      "   ---------------------------------------- 0.0/13.9 MB ? eta -:--:--\n",
      "    --------------------------------------- 0.3/13.9 MB ? eta -:--:--\n",
      "   -- ------------------------------------- 0.8/13.9 MB 1.5 MB/s eta 0:00:09\n",
      "   -- ------------------------------------- 0.8/13.9 MB 1.5 MB/s eta 0:00:09\n",
      "   --- ------------------------------------ 1.0/13.9 MB 1.2 MB/s eta 0:00:11\n",
      "   --- ------------------------------------ 1.3/13.9 MB 1.0 MB/s eta 0:00:12\n",
      "   ---- ----------------------------------- 1.6/13.9 MB 1.2 MB/s eta 0:00:10\n",
      "   ----- ---------------------------------- 1.8/13.9 MB 1.2 MB/s eta 0:00:11\n",
      "   ----- ---------------------------------- 1.8/13.9 MB 1.2 MB/s eta 0:00:11\n",
      "   ------ --------------------------------- 2.4/13.9 MB 1.1 MB/s eta 0:00:11\n",
      "   ------ --------------------------------- 2.4/13.9 MB 1.1 MB/s eta 0:00:11\n",
      "   ------- -------------------------------- 2.6/13.9 MB 1.1 MB/s eta 0:00:11\n",
      "   -------- ------------------------------- 2.9/13.9 MB 1.1 MB/s eta 0:00:11\n",
      "   --------- ------------------------------ 3.1/13.9 MB 1.1 MB/s eta 0:00:11\n",
      "   --------- ------------------------------ 3.1/13.9 MB 1.1 MB/s eta 0:00:11\n",
      "   --------- ------------------------------ 3.4/13.9 MB 1.0 MB/s eta 0:00:11\n",
      "   ---------- ----------------------------- 3.7/13.9 MB 1.0 MB/s eta 0:00:10\n",
      "   ----------- ---------------------------- 3.9/13.9 MB 1.1 MB/s eta 0:00:10\n",
      "   ------------ --------------------------- 4.2/13.9 MB 1.1 MB/s eta 0:00:10\n",
      "   ------------ --------------------------- 4.5/13.9 MB 1.1 MB/s eta 0:00:09\n",
      "   -------------- ------------------------- 5.0/13.9 MB 1.1 MB/s eta 0:00:08\n",
      "   --------------- ------------------------ 5.5/13.9 MB 1.2 MB/s eta 0:00:08\n",
      "   ----------------- ---------------------- 6.0/13.9 MB 1.3 MB/s eta 0:00:07\n",
      "   -------------------- ------------------- 7.1/13.9 MB 1.4 MB/s eta 0:00:05\n",
      "   --------------------- ------------------ 7.3/13.9 MB 1.4 MB/s eta 0:00:05\n",
      "   ----------------------- ---------------- 8.1/13.9 MB 1.5 MB/s eta 0:00:04\n",
      "   -------------------------- ------------- 9.2/13.9 MB 1.6 MB/s eta 0:00:03\n",
      "   --------------------------- ------------ 9.4/13.9 MB 1.7 MB/s eta 0:00:03\n",
      "   ---------------------------- ----------- 10.0/13.9 MB 1.6 MB/s eta 0:00:03\n",
      "   ------------------------------- -------- 11.0/13.9 MB 1.7 MB/s eta 0:00:02\n",
      "   ---------------------------------- ----- 11.8/13.9 MB 1.8 MB/s eta 0:00:02\n",
      "   ------------------------------------- -- 12.8/13.9 MB 1.9 MB/s eta 0:00:01\n",
      "   ---------------------------------------  13.6/13.9 MB 2.0 MB/s eta 0:00:01\n",
      "   ---------------------------------------- 13.9/13.9 MB 2.0 MB/s eta 0:00:00\n",
      "Downloading s3transfer-0.13.0-py3-none-any.whl (85 kB)\n",
      "Installing collected packages: botocore, s3transfer, boto3\n",
      "  Attempting uninstall: botocore\n",
      "    Found existing installation: botocore 1.34.69\n",
      "    Uninstalling botocore-1.34.69:\n",
      "      Successfully uninstalled botocore-1.34.69\n",
      "Successfully installed boto3-1.39.8 botocore-1.39.8 s3transfer-0.13.0\n"
     ]
    },
    {
     "name": "stderr",
     "output_type": "stream",
     "text": [
      "ERROR: pip's dependency resolver does not currently take into account all the packages that are installed. This behaviour is the source of the following dependency conflicts.\n",
      "aiobotocore 2.12.3 requires botocore<1.34.70,>=1.34.41, but you have botocore 1.39.8 which is incompatible.\n"
     ]
    }
   ],
   "source": [
    "!pip install boto3"
   ]
  },
  {
   "cell_type": "code",
   "execution_count": 8,
   "id": "2102a056-0853-439f-8e65-e3dad91490e4",
   "metadata": {},
   "outputs": [],
   "source": [
    "# Dont Forget to set the Permisiion in Iam \n",
    "# manually setting AWS access key and secret key.\n",
    "import boto3\n",
    "\n",
    "aws_access_key = ''\n",
    "aws_secret_key = '
'\n",
    "\n",
    "s3 = boto3.client(\n",
    "    's3',\n",
    "    aws_access_key_id=aws_access_key,\n",
    "    aws_secret_access_key=aws_secret_key,\n",
    "    region_name='ap-south-1'  # or your preferred region\n",
    ")\n"
   ]
  },
  {
   "cell_type": "code",
   "execution_count": 10,
   "id": "230ae5b5-0d26-4d3e-ab13-c3c80db827f6",
   "metadata": {},
   "outputs": [
    {
     "name": "stdout",
     "output_type": "stream",
     "text": [
      "✅ Bucket 'my-unique-bucket-name-932174' created successfully!\n"
     ]
    }
   ],
   "source": [
    "bucket_name = \"my-unique-bucket-name-932174\"\n",
    "region = \"ap-south-1\"\n",
    "\n",
    "try:\n",
    "    s3.create_bucket(\n",
    "        Bucket=bucket_name,\n",
    "        CreateBucketConfiguration={'LocationConstraint': region}\n",
    "    )    \n",
    "    print(f\"✅ Bucket '{bucket_name}' created successfully!\")\n",
    "except Exception as e:\n",
    "    print(f\"❌ Error: {e}\")"
   ]
  }
 ],
 "metadata": {
  "kernelspec": {
   "display_name": "Python [conda env:base] *",
   "language": "python",
   "name": "conda-base-py"
  },
  "language_info": {
   "codemirror_mode": {
    "name": "ipython",
    "version": 3
   },
   "file_extension": ".py",
   "mimetype": "text/x-python",
   "name": "python",
   "nbconvert_exporter": "python",
   "pygments_lexer": "ipython3",
   "version": "3.12.7"
  }
 },
 "nbformat": 4,
 "nbformat_minor": 5
}
